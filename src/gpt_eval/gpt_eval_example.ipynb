{
 "cells": [
  {
   "cell_type": "code",
   "execution_count": null,
   "metadata": {},
   "outputs": [],
   "source": [
    "import os\n",
    "import openai\n",
    "import backoff\n",
    "import time\n",
    "import json\n",
    "import pdb\n",
    "import argparse\n",
    "import traceback\n",
    "import numpy as np\n",
    "import pandas as pd\n",
    "from tqdm import tqdm\n",
    "from datetime import datetime\n",
    "\n",
    "from utils import *\n",
    "\n",
    "openai.api_key = \"\"\n",
    "STOP_PHRASE = \"END\""
   ]
  },
  {
   "cell_type": "markdown",
   "metadata": {},
   "source": [
    "##### refer to the paper, \"Human-like Summarization Evaluation with ChatGPT\""
   ]
  },
  {
   "cell_type": "markdown",
   "metadata": {},
   "source": [
    "# Likert scale scroing example"
   ]
  },
  {
   "cell_type": "code",
   "execution_count": null,
   "metadata": {},
   "outputs": [],
   "source": [
    "article = \"LONDON, England (Reuters) -- Harry Potter star Daniel Radcliffe gains access to a reported £20 million ($41.1 million) fortune as he turns 18 on Monday, but he insists the money won't cast a spell on him. Daniel Radcliffe as Harry Potter in \\\"Harry Potter and the Order of the Phoenix\\\" To the disappointment of gossip columnists around the world, the young actor says he has no plans to fritter his cash away on fast cars, drink and celebrity parties. \\\"I don't plan to be one of those people who, as soon as they turn 18, suddenly buy themselves a massive sports car collection or something similar,\\\" he told an Australian interviewer earlier this month. \\\"I don't think I'll be particularly extravagant. \\\"The things I like buying are things that cost about 10 pounds -- books and CDs and DVDs.\\\" At 18, Radcliffe will be able to gamble in a casino, buy a drink in a pub or see the horror film \\\"Hostel: Part II,\\\" currently six places below his number one movie on the UK box office chart. Details of how he'll mark his landmark birthday are under wraps. His agent and publicist had no comment on his plans. \\\"I'll definitely have some sort of party,\\\" he said in an interview. \\\"Hopefully none of you will be reading about it.\\\" Radcliffe's earnings from the first five Potter films have been held in a trust fund which he has not been able to touch. Despite his growing fame and riches, the actor says he is keeping his feet firmly on the ground. \\\"People are always looking to say 'kid star goes off the rails,'\\\" he told reporters last month. \\\"But I try very hard not to go that way because it would be too easy for them.\\\" His latest outing as the boy wizard in \\\"Harry Potter and the Order of the Phoenix\\\" is breaking records on both sides of the Atlantic and he will reprise the role in the last two films. Watch I-Reporter give her review of Potter's latest » . There is life beyond Potter, however. The Londoner has filmed a TV movie called \\\"My Boy Jack,\\\" about author Rudyard Kipling and his son, due for release later this year. He will also appear in \\\"December Boys,\\\" an Australian film about four boys who escape an orphanage. Earlier this year, he made his stage debut playing a tortured teenager in Peter Shaffer's \\\"Equus.\\\" Meanwhile, he is braced for even closer media scrutiny now that he's legally an adult: \\\"I just think I'm going to be more sort of fair game,\\\" he told Reuters. E-mail to a friend . Copyright 2007 Reuters. All rights reserved.This material may not be published, broadcast, rewritten, or redistributed.\"\n",
    "summary = \"Harry Potter star Daniel Radcliffe gets £20M fortune as he turns 18 Monday . Young actor says he has no plans to fritter his cash away . Radcliffe's earnings from first five Potter films have been held in trust fund .\"\n",
    "prompt = \"Evaluate the quality of summaries written for a news article. Rate each summary on four dimensions: relevance, informativeness, fluency, and coherence. You should rate on a scale from 1 (worst) to 5 (best).\"\n",
    "\n",
    "query = f\"{prompt}\\nArticle: {article}\\nSummary: {summary}\"\n",
    "batch = [{\"role\": \"user\", \"content\": f\"{query}\"}]\n",
    "# print(batch[0]['content'])\n",
    "response = create_completion(model=get_model_id('gpt-3.5-turbo-0613'), messages=batch, max_tokens=256,\n",
    "                                            temperature=0, n=1, stop=STOP_PHRASE,model_type='chat',\n",
    "                                            log_path=os.path.join('./logs', 'log.txt'))\n",
    "\n",
    "print(response['choices'])"
   ]
  },
  {
   "cell_type": "markdown",
   "metadata": {},
   "source": [
    "# Pairwise comparison"
   ]
  },
  {
   "cell_type": "code",
   "execution_count": null,
   "metadata": {},
   "outputs": [],
   "source": [
    "article = \"LONDON, England (Reuters) -- Harry Potter star Daniel Radcliffe gains access to a reported £20 million ($41.1 million) fortune as he turns 18 on Monday, but he insists the money won't cast a spell on him. Daniel Radcliffe as Harry Potter in \\\"Harry Potter and the Order of the Phoenix\\\" To the disappointment of gossip columnists around the world, the young actor says he has no plans to fritter his cash away on fast cars, drink and celebrity parties. \\\"I don't plan to be one of those people who, as soon as they turn 18, suddenly buy themselves a massive sports car collection or something similar,\\\" he told an Australian interviewer earlier this month. \\\"I don't think I'll be particularly extravagant. \\\"The things I like buying are things that cost about 10 pounds -- books and CDs and DVDs.\\\" At 18, Radcliffe will be able to gamble in a casino, buy a drink in a pub or see the horror film \\\"Hostel: Part II,\\\" currently six places below his number one movie on the UK box office chart. Details of how he'll mark his landmark birthday are under wraps. His agent and publicist had no comment on his plans. \\\"I'll definitely have some sort of party,\\\" he said in an interview. \\\"Hopefully none of you will be reading about it.\\\" Radcliffe's earnings from the first five Potter films have been held in a trust fund which he has not been able to touch. Despite his growing fame and riches, the actor says he is keeping his feet firmly on the ground. \\\"People are always looking to say 'kid star goes off the rails,'\\\" he told reporters last month. \\\"But I try very hard not to go that way because it would be too easy for them.\\\" His latest outing as the boy wizard in \\\"Harry Potter and the Order of the Phoenix\\\" is breaking records on both sides of the Atlantic and he will reprise the role in the last two films. Watch I-Reporter give her review of Potter's latest » . There is life beyond Potter, however. The Londoner has filmed a TV movie called \\\"My Boy Jack,\\\" about author Rudyard Kipling and his son, due for release later this year. He will also appear in \\\"December Boys,\\\" an Australian film about four boys who escape an orphanage. Earlier this year, he made his stage debut playing a tortured teenager in Peter Shaffer's \\\"Equus.\\\" Meanwhile, he is braced for even closer media scrutiny now that he's legally an adult: \\\"I just think I'm going to be more sort of fair game,\\\" he told Reuters. E-mail to a friend . Copyright 2007 Reuters. All rights reserved.This material may not be published, broadcast, rewritten, or redistributed.\"\n",
    "summary1 = \"Harry Potter star Daniel Radcliffe gets £20M fortune as he turns 18 Monday . Young actor says he has no plans to fritter his cash away . Radcliffe's earnings from first five Potter films have been held in trust fund .\"\n",
    "summary2 = \"Harry Potter star Daniel Radcliffe gets £20M fortune as he turns 18 Monday . Young actor says he has no plans to fritter his cash away .\"\n",
    "prompt = \"Given a new article, which summary is better? Answer \\\"Summary 0\\\" or \\\"Summary 1\\\". You do not need to explain the reason.\"\n",
    "\n",
    "query = f\"{prompt}\\nArticle: {article}\\nSummary0: {summary1}\\nSummary1: {summary2}\"\n",
    "batch = [{\"role\": \"user\", \"content\": f\"{query}\"}]\n",
    "# print(batch[0]['content'])\n",
    "response = create_completion(model=get_model_id('gpt-3.5-turbo-0613'), messages=batch, max_tokens=256,\n",
    "                                            temperature=0, n=1, stop=STOP_PHRASE,model_type='chat',\n",
    "                                            log_path=os.path.join('./logs', 'log.txt'))\n",
    "\n",
    "print(response['choices'])"
   ]
  },
  {
   "cell_type": "markdown",
   "metadata": {},
   "source": [
    "# How to make input files"
   ]
  },
  {
   "cell_type": "code",
   "execution_count": null,
   "metadata": {},
   "outputs": [],
   "source": [
    "import pandas as pd\n",
    "import json\n",
    "\n",
    "task_name = \"likert\"\n",
    "model_name = \"free\"\n",
    "\n",
    "prompt_likert = \"Evaluate the quality of summaries written for a news article. Rate each summary on four dimensions: relevance, informativeness, fluency, and coherence. You should rate on a scale from 1 (worst) to 5 (best).\"\n",
    "prompt_comp = \"Given a new article, which summary is better? Answer \\\"Summary 0\\\" or \\\"Summary 1\\\". You do not need to explain the reason.\"\n",
    "\n",
    "TASK = {\"likert\": prompt_likert, \"comp\": prompt_comp}\n",
    "prompt = TASK[task_name]\n",
    "\n",
    "df_article = pd.read_csv(\"./data/context.csv\", index_col=False)\n",
    "df_free = pd.read_csv(\"./data/predict_free.csv\", index_col=False)\n",
    "df_full = pd.read_csv(\"./data/predict_full.csv\", index_col=False)\n",
    "\n",
    "jobs = []\n",
    "for i in range(len(df_article)):\n",
    "    article = df_article.iloc[i, 1]\n",
    "        \n",
    "    if task_name == \"likert\":\n",
    "        summary = df_free.iloc[i, 1] if model_name == 'free' else df_full.iloc[i, 1]\n",
    "        query = f\"{prompt}\\nArticle: {article}\\nSummary: {summary}\"\n",
    "    elif task_name == \"comp\":\n",
    "        model_name = \"free_full\"\n",
    "        summary0, summary1 = df_free.iloc[i, 1], df_full.iloc[i, 1]\n",
    "        query = f\"{prompt}\\nArticle: {article}\\nSummary0: {summary0}\\nSummary1: {summary1}\"\n",
    "    \n",
    "    jobs.append({\"model\": \"gpt-3.5-turbo-0613\", \"n\": 1, \"temperature\": 0.0, \"messages\": [{\"role\": \"user\", \"content\": f'{query}'}]})\n",
    "    \n",
    "with open(f\"./inputs/{task_name}_{model_name}.jsonl\", \"w\") as f:\n",
    "    for job in jobs:\n",
    "        json_string = json.dumps(job)\n",
    "        f.write(json_string + \"\\n\")"
   ]
  },
  {
   "cell_type": "markdown",
   "metadata": {},
   "source": [
    "# How to get results"
   ]
  },
  {
   "cell_type": "code",
   "execution_count": null,
   "metadata": {},
   "outputs": [],
   "source": [
    "task_name = \"comp\"\n",
    "model_name = \"full_free\"\n",
    "\n",
    "results = ()\n",
    "with open(f\"./outputs/{task_name}_{model_name}.jsonl\", \"r\") as f:\n",
    "    for line in f:\n",
    "        if line[3] == '[':\n",
    "            results += (eval(line[4:-2])[1],)\n",
    "        elif line[4] == '[':\n",
    "            results += (eval(line[5:-2])[1],)\n",
    "\n",
    "if task_name == \"likert\":\n",
    "    scores = {'Relevance': 0, 'Informativeness': 0, 'Fluency': 0, 'Coherence': 0}\n",
    "    num = 100\n",
    "\n",
    "    for res in results:\n",
    "        values = res['choices'][0]['message']['content']\n",
    "        try:\n",
    "            for cat in values.split('\\n'):\n",
    "                key, v = cat.split(':')\n",
    "                scores[key] += int(v)\n",
    "        except:\n",
    "            # print(values.split('\\n'))\n",
    "            num -= 1\n",
    "        \n",
    "    avg_score = [round(v / num, 2) for _, v in scores.items()]\n",
    "    print(avg_score, num)\n",
    "    \n",
    "elif task_name == 'comp':\n",
    "    scores = {'Summary0': 0, 'Summary1': 0}\n",
    "    \n",
    "    for res in results:\n",
    "        values = res['choices'][0]['message']['content']\n",
    "        \n",
    "        if 'Summary0' in values or 'Summary 0' in values: scores['Summary0'] += 1\n",
    "        elif 'Summary1' in values or 'Summary 1' in values: scores['Summary1'] += 1\n",
    "        else: print(values)\n",
    "        \n",
    "    print(scores)"
   ]
  },
  {
   "cell_type": "code",
   "execution_count": null,
   "metadata": {},
   "outputs": [],
   "source": []
  }
 ],
 "metadata": {
  "kernelspec": {
   "display_name": "toxic",
   "language": "python",
   "name": "python3"
  },
  "language_info": {
   "codemirror_mode": {
    "name": "ipython",
    "version": 3
   },
   "file_extension": ".py",
   "mimetype": "text/x-python",
   "name": "python",
   "nbconvert_exporter": "python",
   "pygments_lexer": "ipython3",
   "version": "3.9.17"
  },
  "orig_nbformat": 4
 },
 "nbformat": 4,
 "nbformat_minor": 2
}
